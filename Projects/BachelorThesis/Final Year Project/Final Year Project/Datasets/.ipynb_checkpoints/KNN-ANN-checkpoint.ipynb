{
 "cells": [
  {
   "cell_type": "code",
   "execution_count": 1,
   "metadata": {},
   "outputs": [],
   "source": [
    "from sklearn.neighbors import KNeighborsClassifier \n",
    "from sklearn.model_selection import train_test_split "
   ]
  },
  {
   "cell_type": "code",
   "execution_count": 2,
   "metadata": {},
   "outputs": [],
   "source": [
    "import pandas as pd\n",
    "import numpy as np"
   ]
  },
  {
   "cell_type": "code",
   "execution_count": 3,
   "metadata": {},
   "outputs": [],
   "source": [
    "datasets = pd.read_csv('Sym_KNN_cir_hcc.csv')"
   ]
  },
  {
   "cell_type": "code",
   "execution_count": 4,
   "metadata": {},
   "outputs": [
    {
     "name": "stdout",
     "output_type": "stream",
     "text": [
      "<class 'pandas.core.frame.DataFrame'>\n",
      "RangeIndex: 177 entries, 0 to 176\n",
      "Data columns (total 26 columns):\n",
      " #   Column                        Non-Null Count  Dtype  \n",
      "---  ------                        --------------  -----  \n",
      " 0   Gender                        177 non-null    int64  \n",
      " 1   Symptoms                      177 non-null    int64  \n",
      " 2   Alcohol                       177 non-null    float64\n",
      " 3   Hepatitis B Surface Antigen   177 non-null    float64\n",
      " 4   Hepatitis B e Antigen         177 non-null    float64\n",
      " 5   Hepatitis B Core Antibody     177 non-null    float64\n",
      " 6   Hepatitis C Virus Antibody    177 non-null    float64\n",
      " 7   Endemic Countries             177 non-null    float64\n",
      " 8   Smoking                       177 non-null    float64\n",
      " 9   Diabetes                      177 non-null    float64\n",
      " 10  Obesity                       177 non-null    float64\n",
      " 11  Hemochromatosis               177 non-null    float64\n",
      " 12  Arterial Hypertension         177 non-null    float64\n",
      " 13  Chronic Renal Insufficiency   177 non-null    float64\n",
      " 14  Human Immunodeficiency Virus  177 non-null    float64\n",
      " 15  Nonalcoholic Steatohepatitis  177 non-null    float64\n",
      " 16  Esophageal Varices            177 non-null    float64\n",
      " 17  Splenomegaly                  177 non-null    float64\n",
      " 18  Portal Hypertension           177 non-null    float64\n",
      " 19  Portal Vein Thrombosis        177 non-null    float64\n",
      " 20  Liver Metastasis              177 non-null    float64\n",
      " 21  Radiological Hallmark         177 non-null    float64\n",
      " 22  Age at diagnosis              177 non-null    int64  \n",
      " 23  Grams of Alcohol per day      177 non-null    int64  \n",
      " 24  Packs of cigarets per year    177 non-null    float64\n",
      " 25  Class                         177 non-null    float64\n",
      "dtypes: float64(22), int64(4)\n",
      "memory usage: 36.1 KB\n"
     ]
    }
   ],
   "source": [
    "datasets.info()"
   ]
  },
  {
   "cell_type": "code",
   "execution_count": 5,
   "metadata": {},
   "outputs": [],
   "source": [
    "dataframe = pd.DataFrame(datasets)"
   ]
  },
  {
   "cell_type": "code",
   "execution_count": 6,
   "metadata": {},
   "outputs": [
    {
     "data": {
      "text/plain": [
       "Index(['Gender', 'Symptoms', 'Alcohol', 'Hepatitis B Surface Antigen',\n",
       "       'Hepatitis B e Antigen', 'Hepatitis B Core Antibody',\n",
       "       'Hepatitis C Virus Antibody', 'Endemic Countries', 'Smoking',\n",
       "       'Diabetes', 'Obesity', 'Hemochromatosis', 'Arterial Hypertension',\n",
       "       'Chronic Renal Insufficiency', 'Human Immunodeficiency Virus',\n",
       "       'Nonalcoholic Steatohepatitis', 'Esophageal Varices', 'Splenomegaly',\n",
       "       'Portal Hypertension', 'Portal Vein Thrombosis', 'Liver Metastasis',\n",
       "       'Radiological Hallmark', 'Age at diagnosis', 'Grams of Alcohol per day',\n",
       "       'Packs of cigarets per year', 'Class'],\n",
       "      dtype='object')"
      ]
     },
     "execution_count": 6,
     "metadata": {},
     "output_type": "execute_result"
    }
   ],
   "source": [
    "dataframe.columns"
   ]
  },
  {
   "cell_type": "code",
   "execution_count": 7,
   "metadata": {},
   "outputs": [],
   "source": [
    "X=dataframe[['Gender', 'Symptoms', 'Alcohol', 'Hepatitis B Surface Antigen',\n",
    "       'Hepatitis B e Antigen', 'Hepatitis B Core Antibody',\n",
    "       'Hepatitis C Virus Antibody', 'Endemic Countries', 'Smoking',\n",
    "       'Diabetes', 'Obesity', 'Hemochromatosis', 'Arterial Hypertension',\n",
    "       'Chronic Renal Insufficiency', 'Human Immunodeficiency Virus',\n",
    "       'Nonalcoholic Steatohepatitis', 'Esophageal Varices', 'Splenomegaly',\n",
    "       'Portal Hypertension', 'Portal Vein Thrombosis', 'Liver Metastasis',\n",
    "       'Radiological Hallmark', 'Age at diagnosis', 'Grams of Alcohol per day',\n",
    "       'Packs of cigarets per year']]"
   ]
  },
  {
   "cell_type": "code",
   "execution_count": 18,
   "metadata": {},
   "outputs": [],
   "source": [
    "y = dataframe.astype({'Class': 'int64'})"
   ]
  },
  {
   "cell_type": "code",
   "execution_count": 20,
   "metadata": {},
   "outputs": [
    {
     "data": {
      "text/plain": [
       "0      1\n",
       "1      1\n",
       "2      0\n",
       "3      1\n",
       "4      2\n",
       "      ..\n",
       "172    2\n",
       "173    2\n",
       "174    1\n",
       "175    2\n",
       "176    1\n",
       "Name: Class, Length: 177, dtype: int32"
      ]
     },
     "execution_count": 20,
     "metadata": {},
     "output_type": "execute_result"
    }
   ],
   "source": [
    "y=y['Class']\n",
    "y"
   ]
  },
  {
   "cell_type": "markdown",
   "metadata": {},
   "source": [
    "b = datasets['Cirrhosis']==1\n",
    "isT = datasets[b]\n",
    "\n",
    "c = isT['Class']==0\n",
    "final = isT[c]\n",
    "final\n"
   ]
  },
  {
   "cell_type": "code",
   "execution_count": 21,
   "metadata": {},
   "outputs": [],
   "source": [
    "from sklearn.model_selection import train_test_split"
   ]
  },
  {
   "cell_type": "code",
   "execution_count": 22,
   "metadata": {},
   "outputs": [],
   "source": [
    " X_train, X_test, y_train, y_test = train_test_split(\n",
    "...     X, y, test_size=0.33, random_state=0)"
   ]
  },
  {
   "cell_type": "code",
   "execution_count": 23,
   "metadata": {},
   "outputs": [],
   "source": [
    "from sklearn.neighbors import KNeighborsClassifier\n",
    "from sklearn.metrics import accuracy_score"
   ]
  },
  {
   "cell_type": "code",
   "execution_count": 24,
   "metadata": {},
   "outputs": [],
   "source": [
    "train=[]\n",
    "test=[]"
   ]
  },
  {
   "cell_type": "code",
   "execution_count": 25,
   "metadata": {},
   "outputs": [
    {
     "data": {
      "text/html": [
       "<div>\n",
       "<style scoped>\n",
       "    .dataframe tbody tr th:only-of-type {\n",
       "        vertical-align: middle;\n",
       "    }\n",
       "\n",
       "    .dataframe tbody tr th {\n",
       "        vertical-align: top;\n",
       "    }\n",
       "\n",
       "    .dataframe thead th {\n",
       "        text-align: right;\n",
       "    }\n",
       "</style>\n",
       "<table border=\"1\" class=\"dataframe\">\n",
       "  <thead>\n",
       "    <tr style=\"text-align: right;\">\n",
       "      <th></th>\n",
       "      <th>Gender</th>\n",
       "      <th>Symptoms</th>\n",
       "      <th>Alcohol</th>\n",
       "      <th>Hepatitis B Surface Antigen</th>\n",
       "      <th>Hepatitis B e Antigen</th>\n",
       "      <th>Hepatitis B Core Antibody</th>\n",
       "      <th>Hepatitis C Virus Antibody</th>\n",
       "      <th>Endemic Countries</th>\n",
       "      <th>Smoking</th>\n",
       "      <th>Diabetes</th>\n",
       "      <th>...</th>\n",
       "      <th>Nonalcoholic Steatohepatitis</th>\n",
       "      <th>Esophageal Varices</th>\n",
       "      <th>Splenomegaly</th>\n",
       "      <th>Portal Hypertension</th>\n",
       "      <th>Portal Vein Thrombosis</th>\n",
       "      <th>Liver Metastasis</th>\n",
       "      <th>Radiological Hallmark</th>\n",
       "      <th>Age at diagnosis</th>\n",
       "      <th>Grams of Alcohol per day</th>\n",
       "      <th>Packs of cigarets per year</th>\n",
       "    </tr>\n",
       "  </thead>\n",
       "  <tbody>\n",
       "    <tr>\n",
       "      <th>161</th>\n",
       "      <td>0</td>\n",
       "      <td>1</td>\n",
       "      <td>0.0</td>\n",
       "      <td>0.0</td>\n",
       "      <td>0.0</td>\n",
       "      <td>1.0</td>\n",
       "      <td>0.0</td>\n",
       "      <td>1.0</td>\n",
       "      <td>0.0</td>\n",
       "      <td>0.0</td>\n",
       "      <td>...</td>\n",
       "      <td>0.0</td>\n",
       "      <td>0.0</td>\n",
       "      <td>1.0</td>\n",
       "      <td>1.0</td>\n",
       "      <td>0.0</td>\n",
       "      <td>0.0</td>\n",
       "      <td>1.0</td>\n",
       "      <td>23</td>\n",
       "      <td>0</td>\n",
       "      <td>0.0</td>\n",
       "    </tr>\n",
       "    <tr>\n",
       "      <th>141</th>\n",
       "      <td>1</td>\n",
       "      <td>1</td>\n",
       "      <td>1.0</td>\n",
       "      <td>0.0</td>\n",
       "      <td>0.0</td>\n",
       "      <td>1.0</td>\n",
       "      <td>1.0</td>\n",
       "      <td>0.0</td>\n",
       "      <td>1.0</td>\n",
       "      <td>0.0</td>\n",
       "      <td>...</td>\n",
       "      <td>0.0</td>\n",
       "      <td>1.0</td>\n",
       "      <td>0.0</td>\n",
       "      <td>1.0</td>\n",
       "      <td>0.0</td>\n",
       "      <td>0.0</td>\n",
       "      <td>0.0</td>\n",
       "      <td>62</td>\n",
       "      <td>0</td>\n",
       "      <td>0.0</td>\n",
       "    </tr>\n",
       "    <tr>\n",
       "      <th>27</th>\n",
       "      <td>1</td>\n",
       "      <td>1</td>\n",
       "      <td>1.0</td>\n",
       "      <td>0.0</td>\n",
       "      <td>0.0</td>\n",
       "      <td>0.0</td>\n",
       "      <td>0.0</td>\n",
       "      <td>0.0</td>\n",
       "      <td>1.0</td>\n",
       "      <td>1.0</td>\n",
       "      <td>...</td>\n",
       "      <td>0.0</td>\n",
       "      <td>0.0</td>\n",
       "      <td>0.0</td>\n",
       "      <td>1.0</td>\n",
       "      <td>1.0</td>\n",
       "      <td>1.0</td>\n",
       "      <td>1.0</td>\n",
       "      <td>69</td>\n",
       "      <td>200</td>\n",
       "      <td>60.0</td>\n",
       "    </tr>\n",
       "    <tr>\n",
       "      <th>83</th>\n",
       "      <td>1</td>\n",
       "      <td>1</td>\n",
       "      <td>1.0</td>\n",
       "      <td>1.0</td>\n",
       "      <td>0.0</td>\n",
       "      <td>1.0</td>\n",
       "      <td>0.0</td>\n",
       "      <td>0.0</td>\n",
       "      <td>0.0</td>\n",
       "      <td>0.0</td>\n",
       "      <td>...</td>\n",
       "      <td>0.0</td>\n",
       "      <td>1.0</td>\n",
       "      <td>0.0</td>\n",
       "      <td>1.0</td>\n",
       "      <td>0.0</td>\n",
       "      <td>0.0</td>\n",
       "      <td>0.0</td>\n",
       "      <td>62</td>\n",
       "      <td>0</td>\n",
       "      <td>0.0</td>\n",
       "    </tr>\n",
       "    <tr>\n",
       "      <th>135</th>\n",
       "      <td>0</td>\n",
       "      <td>1</td>\n",
       "      <td>1.0</td>\n",
       "      <td>0.0</td>\n",
       "      <td>0.0</td>\n",
       "      <td>0.0</td>\n",
       "      <td>0.0</td>\n",
       "      <td>0.0</td>\n",
       "      <td>0.0</td>\n",
       "      <td>1.0</td>\n",
       "      <td>...</td>\n",
       "      <td>0.0</td>\n",
       "      <td>0.0</td>\n",
       "      <td>0.0</td>\n",
       "      <td>1.0</td>\n",
       "      <td>0.0</td>\n",
       "      <td>0.0</td>\n",
       "      <td>1.0</td>\n",
       "      <td>77</td>\n",
       "      <td>75</td>\n",
       "      <td>0.0</td>\n",
       "    </tr>\n",
       "    <tr>\n",
       "      <th>...</th>\n",
       "      <td>...</td>\n",
       "      <td>...</td>\n",
       "      <td>...</td>\n",
       "      <td>...</td>\n",
       "      <td>...</td>\n",
       "      <td>...</td>\n",
       "      <td>...</td>\n",
       "      <td>...</td>\n",
       "      <td>...</td>\n",
       "      <td>...</td>\n",
       "      <td>...</td>\n",
       "      <td>...</td>\n",
       "      <td>...</td>\n",
       "      <td>...</td>\n",
       "      <td>...</td>\n",
       "      <td>...</td>\n",
       "      <td>...</td>\n",
       "      <td>...</td>\n",
       "      <td>...</td>\n",
       "      <td>...</td>\n",
       "      <td>...</td>\n",
       "    </tr>\n",
       "    <tr>\n",
       "      <th>103</th>\n",
       "      <td>1</td>\n",
       "      <td>1</td>\n",
       "      <td>1.0</td>\n",
       "      <td>0.0</td>\n",
       "      <td>0.0</td>\n",
       "      <td>0.0</td>\n",
       "      <td>1.0</td>\n",
       "      <td>0.0</td>\n",
       "      <td>1.0</td>\n",
       "      <td>0.0</td>\n",
       "      <td>...</td>\n",
       "      <td>0.0</td>\n",
       "      <td>0.0</td>\n",
       "      <td>1.0</td>\n",
       "      <td>1.0</td>\n",
       "      <td>0.0</td>\n",
       "      <td>1.0</td>\n",
       "      <td>1.0</td>\n",
       "      <td>52</td>\n",
       "      <td>50</td>\n",
       "      <td>0.0</td>\n",
       "    </tr>\n",
       "    <tr>\n",
       "      <th>67</th>\n",
       "      <td>1</td>\n",
       "      <td>1</td>\n",
       "      <td>1.0</td>\n",
       "      <td>0.0</td>\n",
       "      <td>0.0</td>\n",
       "      <td>0.0</td>\n",
       "      <td>0.0</td>\n",
       "      <td>0.0</td>\n",
       "      <td>0.0</td>\n",
       "      <td>0.0</td>\n",
       "      <td>...</td>\n",
       "      <td>0.0</td>\n",
       "      <td>0.0</td>\n",
       "      <td>0.0</td>\n",
       "      <td>1.0</td>\n",
       "      <td>0.0</td>\n",
       "      <td>0.0</td>\n",
       "      <td>1.0</td>\n",
       "      <td>87</td>\n",
       "      <td>0</td>\n",
       "      <td>0.0</td>\n",
       "    </tr>\n",
       "    <tr>\n",
       "      <th>117</th>\n",
       "      <td>1</td>\n",
       "      <td>1</td>\n",
       "      <td>1.0</td>\n",
       "      <td>0.0</td>\n",
       "      <td>0.0</td>\n",
       "      <td>0.0</td>\n",
       "      <td>0.0</td>\n",
       "      <td>0.0</td>\n",
       "      <td>0.0</td>\n",
       "      <td>1.0</td>\n",
       "      <td>...</td>\n",
       "      <td>0.0</td>\n",
       "      <td>1.0</td>\n",
       "      <td>1.0</td>\n",
       "      <td>1.0</td>\n",
       "      <td>0.0</td>\n",
       "      <td>0.0</td>\n",
       "      <td>1.0</td>\n",
       "      <td>79</td>\n",
       "      <td>75</td>\n",
       "      <td>0.0</td>\n",
       "    </tr>\n",
       "    <tr>\n",
       "      <th>47</th>\n",
       "      <td>1</td>\n",
       "      <td>1</td>\n",
       "      <td>1.0</td>\n",
       "      <td>0.0</td>\n",
       "      <td>0.0</td>\n",
       "      <td>0.0</td>\n",
       "      <td>1.0</td>\n",
       "      <td>0.0</td>\n",
       "      <td>1.0</td>\n",
       "      <td>0.0</td>\n",
       "      <td>...</td>\n",
       "      <td>0.0</td>\n",
       "      <td>0.0</td>\n",
       "      <td>1.0</td>\n",
       "      <td>1.0</td>\n",
       "      <td>0.0</td>\n",
       "      <td>1.0</td>\n",
       "      <td>1.0</td>\n",
       "      <td>52</td>\n",
       "      <td>50</td>\n",
       "      <td>0.0</td>\n",
       "    </tr>\n",
       "    <tr>\n",
       "      <th>172</th>\n",
       "      <td>1</td>\n",
       "      <td>0</td>\n",
       "      <td>1.0</td>\n",
       "      <td>0.0</td>\n",
       "      <td>0.0</td>\n",
       "      <td>0.0</td>\n",
       "      <td>0.0</td>\n",
       "      <td>0.0</td>\n",
       "      <td>1.0</td>\n",
       "      <td>1.0</td>\n",
       "      <td>...</td>\n",
       "      <td>0.0</td>\n",
       "      <td>1.0</td>\n",
       "      <td>1.0</td>\n",
       "      <td>1.0</td>\n",
       "      <td>1.0</td>\n",
       "      <td>0.0</td>\n",
       "      <td>1.0</td>\n",
       "      <td>61</td>\n",
       "      <td>60</td>\n",
       "      <td>67.5</td>\n",
       "    </tr>\n",
       "  </tbody>\n",
       "</table>\n",
       "<p>118 rows × 25 columns</p>\n",
       "</div>"
      ],
      "text/plain": [
       "     Gender  Symptoms  Alcohol  Hepatitis B Surface Antigen  \\\n",
       "161       0         1      0.0                          0.0   \n",
       "141       1         1      1.0                          0.0   \n",
       "27        1         1      1.0                          0.0   \n",
       "83        1         1      1.0                          1.0   \n",
       "135       0         1      1.0                          0.0   \n",
       "..      ...       ...      ...                          ...   \n",
       "103       1         1      1.0                          0.0   \n",
       "67        1         1      1.0                          0.0   \n",
       "117       1         1      1.0                          0.0   \n",
       "47        1         1      1.0                          0.0   \n",
       "172       1         0      1.0                          0.0   \n",
       "\n",
       "     Hepatitis B e Antigen  Hepatitis B Core Antibody  \\\n",
       "161                    0.0                        1.0   \n",
       "141                    0.0                        1.0   \n",
       "27                     0.0                        0.0   \n",
       "83                     0.0                        1.0   \n",
       "135                    0.0                        0.0   \n",
       "..                     ...                        ...   \n",
       "103                    0.0                        0.0   \n",
       "67                     0.0                        0.0   \n",
       "117                    0.0                        0.0   \n",
       "47                     0.0                        0.0   \n",
       "172                    0.0                        0.0   \n",
       "\n",
       "     Hepatitis C Virus Antibody  Endemic Countries  Smoking  Diabetes  ...  \\\n",
       "161                         0.0                1.0      0.0       0.0  ...   \n",
       "141                         1.0                0.0      1.0       0.0  ...   \n",
       "27                          0.0                0.0      1.0       1.0  ...   \n",
       "83                          0.0                0.0      0.0       0.0  ...   \n",
       "135                         0.0                0.0      0.0       1.0  ...   \n",
       "..                          ...                ...      ...       ...  ...   \n",
       "103                         1.0                0.0      1.0       0.0  ...   \n",
       "67                          0.0                0.0      0.0       0.0  ...   \n",
       "117                         0.0                0.0      0.0       1.0  ...   \n",
       "47                          1.0                0.0      1.0       0.0  ...   \n",
       "172                         0.0                0.0      1.0       1.0  ...   \n",
       "\n",
       "     Nonalcoholic Steatohepatitis  Esophageal Varices  Splenomegaly  \\\n",
       "161                           0.0                 0.0           1.0   \n",
       "141                           0.0                 1.0           0.0   \n",
       "27                            0.0                 0.0           0.0   \n",
       "83                            0.0                 1.0           0.0   \n",
       "135                           0.0                 0.0           0.0   \n",
       "..                            ...                 ...           ...   \n",
       "103                           0.0                 0.0           1.0   \n",
       "67                            0.0                 0.0           0.0   \n",
       "117                           0.0                 1.0           1.0   \n",
       "47                            0.0                 0.0           1.0   \n",
       "172                           0.0                 1.0           1.0   \n",
       "\n",
       "     Portal Hypertension  Portal Vein Thrombosis  Liver Metastasis  \\\n",
       "161                  1.0                     0.0               0.0   \n",
       "141                  1.0                     0.0               0.0   \n",
       "27                   1.0                     1.0               1.0   \n",
       "83                   1.0                     0.0               0.0   \n",
       "135                  1.0                     0.0               0.0   \n",
       "..                   ...                     ...               ...   \n",
       "103                  1.0                     0.0               1.0   \n",
       "67                   1.0                     0.0               0.0   \n",
       "117                  1.0                     0.0               0.0   \n",
       "47                   1.0                     0.0               1.0   \n",
       "172                  1.0                     1.0               0.0   \n",
       "\n",
       "     Radiological Hallmark  Age at diagnosis  Grams of Alcohol per day  \\\n",
       "161                    1.0                23                         0   \n",
       "141                    0.0                62                         0   \n",
       "27                     1.0                69                       200   \n",
       "83                     0.0                62                         0   \n",
       "135                    1.0                77                        75   \n",
       "..                     ...               ...                       ...   \n",
       "103                    1.0                52                        50   \n",
       "67                     1.0                87                         0   \n",
       "117                    1.0                79                        75   \n",
       "47                     1.0                52                        50   \n",
       "172                    1.0                61                        60   \n",
       "\n",
       "     Packs of cigarets per year  \n",
       "161                         0.0  \n",
       "141                         0.0  \n",
       "27                         60.0  \n",
       "83                          0.0  \n",
       "135                         0.0  \n",
       "..                          ...  \n",
       "103                         0.0  \n",
       "67                          0.0  \n",
       "117                         0.0  \n",
       "47                          0.0  \n",
       "172                        67.5  \n",
       "\n",
       "[118 rows x 25 columns]"
      ]
     },
     "execution_count": 25,
     "metadata": {},
     "output_type": "execute_result"
    }
   ],
   "source": [
    "X_train"
   ]
  },
  {
   "cell_type": "code",
   "execution_count": 26,
   "metadata": {
    "scrolled": true
   },
   "outputs": [
    {
     "name": "stdout",
     "output_type": "stream",
     "text": [
      "<class 'pandas.core.frame.DataFrame'>\n",
      "RangeIndex: 177 entries, 0 to 176\n",
      "Data columns (total 26 columns):\n",
      " #   Column                        Non-Null Count  Dtype  \n",
      "---  ------                        --------------  -----  \n",
      " 0   Gender                        177 non-null    int64  \n",
      " 1   Symptoms                      177 non-null    int64  \n",
      " 2   Alcohol                       177 non-null    float64\n",
      " 3   Hepatitis B Surface Antigen   177 non-null    float64\n",
      " 4   Hepatitis B e Antigen         177 non-null    float64\n",
      " 5   Hepatitis B Core Antibody     177 non-null    float64\n",
      " 6   Hepatitis C Virus Antibody    177 non-null    float64\n",
      " 7   Endemic Countries             177 non-null    float64\n",
      " 8   Smoking                       177 non-null    float64\n",
      " 9   Diabetes                      177 non-null    float64\n",
      " 10  Obesity                       177 non-null    float64\n",
      " 11  Hemochromatosis               177 non-null    float64\n",
      " 12  Arterial Hypertension         177 non-null    float64\n",
      " 13  Chronic Renal Insufficiency   177 non-null    float64\n",
      " 14  Human Immunodeficiency Virus  177 non-null    float64\n",
      " 15  Nonalcoholic Steatohepatitis  177 non-null    float64\n",
      " 16  Esophageal Varices            177 non-null    float64\n",
      " 17  Splenomegaly                  177 non-null    float64\n",
      " 18  Portal Hypertension           177 non-null    float64\n",
      " 19  Portal Vein Thrombosis        177 non-null    float64\n",
      " 20  Liver Metastasis              177 non-null    float64\n",
      " 21  Radiological Hallmark         177 non-null    float64\n",
      " 22  Age at diagnosis              177 non-null    int64  \n",
      " 23  Grams of Alcohol per day      177 non-null    int64  \n",
      " 24  Packs of cigarets per year    177 non-null    float64\n",
      " 25  Class                         177 non-null    float64\n",
      "dtypes: float64(22), int64(4)\n",
      "memory usage: 36.1 KB\n"
     ]
    }
   ],
   "source": [
    "dataframe.info()"
   ]
  },
  {
   "cell_type": "code",
   "execution_count": 27,
   "metadata": {},
   "outputs": [
    {
     "name": "stdout",
     "output_type": "stream",
     "text": [
      "int32\n"
     ]
    }
   ],
   "source": [
    "from sklearn import preprocessing\n",
    "from sklearn import utils\n",
    "#lab_enc = preprocessing.LabelEncoder()\n",
    "y_train.astype('int64')\n",
    "print(y_train.dtypes)\n",
    "#y_train = lab_enc.fit_transform(y_train)\n",
    "#print(y_train)\n",
    "for i in range(1,10):\n",
    "    knn=KNeighborsClassifier(n_neighbors=i)\n",
    "    knn.fit(X_train,y_train)\n",
    "    pr=knn.predict(X_train)\n",
    "    train.append(accuracy_score(y_train,pr))\n",
    "    "
   ]
  },
  {
   "cell_type": "code",
   "execution_count": 29,
   "metadata": {},
   "outputs": [],
   "source": [
    "\n",
    "for i in range(1,10):\n",
    "    knn=KNeighborsClassifier(n_neighbors=i)\n",
    "    knn.fit(X_test,y_test)\n",
    "    pr=knn.predict(X_test)\n",
    "    test.append(accuracy_score(y_test,pr))"
   ]
  },
  {
   "cell_type": "code",
   "execution_count": 30,
   "metadata": {},
   "outputs": [],
   "source": [
    "import matplotlib.pyplot as plt"
   ]
  },
  {
   "cell_type": "code",
   "execution_count": 31,
   "metadata": {},
   "outputs": [
    {
     "data": {
      "text/plain": [
       "[0.9661016949152542,\n",
       " 0.6949152542372882,\n",
       " 0.6610169491525424,\n",
       " 0.6949152542372882,\n",
       " 0.711864406779661,\n",
       " 0.711864406779661,\n",
       " 0.6440677966101694,\n",
       " 0.6779661016949152,\n",
       " 0.6779661016949152]"
      ]
     },
     "execution_count": 31,
     "metadata": {},
     "output_type": "execute_result"
    }
   ],
   "source": [
    "test"
   ]
  },
  {
   "cell_type": "code",
   "execution_count": 32,
   "metadata": {},
   "outputs": [
    {
     "data": {
      "text/plain": [
       "[<matplotlib.lines.Line2D at 0x292161169c8>]"
      ]
     },
     "execution_count": 32,
     "metadata": {},
     "output_type": "execute_result"
    },
    {
     "data": {
      "image/png": "[encoded data removed]",
      "text/plain": [
       "<Figure size 432x288 with 1 Axes>"
      ]
     },
     "metadata": {
      "needs_background": "light"
     },
     "output_type": "display_data"
    }
   ],
   "source": [
    "plt.plot(range(1,10),train)\n",
    "plt.plot(range(1,10),test)"
   ]
  },
  {
   "cell_type": "code",
   "execution_count": 33,
   "metadata": {},
   "outputs": [
    {
     "data": {
      "text/plain": [
       "[<matplotlib.lines.Line2D at 0x292164ca288>,\n",
       " <matplotlib.lines.Line2D at 0x292164d22c8>]"
      ]
     },
     "execution_count": 33,
     "metadata": {},
     "output_type": "execute_result"
    },
    {
     "data": {
      "image/png": "[encoded data removed]",
      "text/plain": [
       "<Figure size 432x288 with 1 Axes>"
      ]
     },
     "metadata": {
      "needs_background": "light"
     },
     "output_type": "display_data"
    }
   ],
   "source": [
    "plt.plot(range(1,10),train,test)"
   ]
  },
  {
   "cell_type": "code",
   "execution_count": 34,
   "metadata": {},
   "outputs": [],
   "source": [
    "g1=[]\n",
    "g2=[]\n",
    "for i in range(1,10):\n",
    "    knn=KNeighborsClassifier(n_neighbors=i)\n",
    "    knn.fit(X_train,y_train)\n",
    "    g1.append(knn.score(X_train,y_train))\n",
    "    g2.append(knn.score(X_test,y_test))\n"
   ]
  },
  {
   "cell_type": "code",
   "execution_count": 35,
   "metadata": {},
   "outputs": [
    {
     "data": {
      "text/plain": [
       "[<matplotlib.lines.Line2D at 0x2921651ae48>]"
      ]
     },
     "execution_count": 35,
     "metadata": {},
     "output_type": "execute_result"
    },
    {
     "data": {
      "image/png": "[encoded data removed]",
      "text/plain": [
       "<Figure size 432x288 with 1 Axes>"
      ]
     },
     "metadata": {
      "needs_background": "light"
     },
     "output_type": "display_data"
    }
   ],
   "source": [
    "plt.plot(range(1,10),g1)\n",
    "plt.plot(range(1,10),g2)"
   ]
  },
  {
   "cell_type": "code",
   "execution_count": 36,
   "metadata": {},
   "outputs": [
    {
     "data": {
      "text/plain": [
       "0.635593220338983"
      ]
     },
     "execution_count": 36,
     "metadata": {},
     "output_type": "execute_result"
    }
   ],
   "source": [
    "knn=KNeighborsClassifier(n_neighbors=10)\n",
    "knn.fit(X_train,y_train)\n",
    "\n",
    "knn.score(X_train,y_train)\n"
   ]
  },
  {
   "cell_type": "code",
   "execution_count": 60,
   "metadata": {},
   "outputs": [
    {
     "name": "stdout",
     "output_type": "stream",
     "text": [
      " normal 20.0 %|| liver cancer 20.0 %|| cirrohsis  60.0 %\n",
      " normal 10.0 %|| liver cancer 70.0 %|| cirrohsis  20.0 %\n",
      " normal 0.0 %|| liver cancer 50.0 %|| cirrohsis  50.0 %\n",
      " normal 0.0 %|| liver cancer 70.0 %|| cirrohsis  30.0 %\n",
      " normal 0.0 %|| liver cancer 50.0 %|| cirrohsis  50.0 %\n",
      " normal 10.0 %|| liver cancer 60.0 %|| cirrohsis  30.0 %\n",
      " normal 10.0 %|| liver cancer 60.0 %|| cirrohsis  30.0 %\n",
      " normal 10.0 %|| liver cancer 40.0 %|| cirrohsis  50.0 %\n",
      " normal 0.0 %|| liver cancer 40.0 %|| cirrohsis  60.0 %\n",
      " normal 30.0 %|| liver cancer 50.0 %|| cirrohsis  20.0 %\n",
      " normal 30.0 %|| liver cancer 40.0 %|| cirrohsis  30.0 %\n",
      " normal 0.0 %|| liver cancer 80.0 %|| cirrohsis  20.0 %\n",
      " normal 0.0 %|| liver cancer 40.0 %|| cirrohsis  60.0 %\n",
      " normal 0.0 %|| liver cancer 40.0 %|| cirrohsis  60.0 %\n",
      " normal 30.0 %|| liver cancer 60.0 %|| cirrohsis  10.0 %\n",
      " normal 0.0 %|| liver cancer 40.0 %|| cirrohsis  60.0 %\n",
      " normal 0.0 %|| liver cancer 90.0 %|| cirrohsis  10.0 %\n",
      " normal 0.0 %|| liver cancer 60.0 %|| cirrohsis  40.0 %\n",
      " normal 10.0 %|| liver cancer 70.0 %|| cirrohsis  20.0 %\n",
      " normal 0.0 %|| liver cancer 40.0 %|| cirrohsis  60.0 %\n",
      " normal 10.0 %|| liver cancer 80.0 %|| cirrohsis  10.0 %\n",
      " normal 10.0 %|| liver cancer 70.0 %|| cirrohsis  20.0 %\n",
      " normal 20.0 %|| liver cancer 60.0 %|| cirrohsis  20.0 %\n",
      " normal 10.0 %|| liver cancer 60.0 %|| cirrohsis  30.0 %\n",
      " normal 0.0 %|| liver cancer 90.0 %|| cirrohsis  10.0 %\n",
      " normal 10.0 %|| liver cancer 40.0 %|| cirrohsis  50.0 %\n",
      " normal 0.0 %|| liver cancer 80.0 %|| cirrohsis  20.0 %\n",
      " normal 0.0 %|| liver cancer 40.0 %|| cirrohsis  60.0 %\n",
      " normal 0.0 %|| liver cancer 40.0 %|| cirrohsis  60.0 %\n",
      " normal 10.0 %|| liver cancer 60.0 %|| cirrohsis  30.0 %\n",
      " normal 0.0 %|| liver cancer 80.0 %|| cirrohsis  20.0 %\n",
      " normal 0.0 %|| liver cancer 60.0 %|| cirrohsis  40.0 %\n",
      " normal 0.0 %|| liver cancer 40.0 %|| cirrohsis  60.0 %\n",
      " normal 30.0 %|| liver cancer 60.0 %|| cirrohsis  10.0 %\n",
      " normal 0.0 %|| liver cancer 40.0 %|| cirrohsis  60.0 %\n",
      " normal 10.0 %|| liver cancer 40.0 %|| cirrohsis  50.0 %\n",
      " normal 10.0 %|| liver cancer 60.0 %|| cirrohsis  30.0 %\n",
      " normal 10.0 %|| liver cancer 60.0 %|| cirrohsis  30.0 %\n",
      " normal 0.0 %|| liver cancer 90.0 %|| cirrohsis  10.0 %\n",
      " normal 10.0 %|| liver cancer 60.0 %|| cirrohsis  30.0 %\n",
      " normal 0.0 %|| liver cancer 40.0 %|| cirrohsis  60.0 %\n",
      " normal 0.0 %|| liver cancer 40.0 %|| cirrohsis  60.0 %\n",
      " normal 10.0 %|| liver cancer 70.0 %|| cirrohsis  20.0 %\n",
      " normal 10.0 %|| liver cancer 60.0 %|| cirrohsis  30.0 %\n",
      " normal 0.0 %|| liver cancer 80.0 %|| cirrohsis  20.0 %\n",
      " normal 0.0 %|| liver cancer 50.0 %|| cirrohsis  50.0 %\n",
      " normal 20.0 %|| liver cancer 70.0 %|| cirrohsis  10.0 %\n",
      " normal 0.0 %|| liver cancer 50.0 %|| cirrohsis  50.0 %\n",
      " normal 0.0 %|| liver cancer 30.0 %|| cirrohsis  70.0 %\n",
      " normal 10.0 %|| liver cancer 70.0 %|| cirrohsis  20.0 %\n",
      " normal 20.0 %|| liver cancer 30.0 %|| cirrohsis  50.0 %\n",
      " normal 20.0 %|| liver cancer 20.0 %|| cirrohsis  60.0 %\n",
      " normal 10.0 %|| liver cancer 60.0 %|| cirrohsis  30.0 %\n",
      " normal 0.0 %|| liver cancer 90.0 %|| cirrohsis  10.0 %\n",
      " normal 10.0 %|| liver cancer 70.0 %|| cirrohsis  20.0 %\n",
      " normal 10.0 %|| liver cancer 70.0 %|| cirrohsis  20.0 %\n",
      " normal 10.0 %|| liver cancer 30.0 %|| cirrohsis  60.0 %\n",
      " normal 0.0 %|| liver cancer 70.0 %|| cirrohsis  30.0 %\n",
      " normal 10.0 %|| liver cancer 70.0 %|| cirrohsis  20.0 %\n"
     ]
    }
   ],
   "source": [
    "#t = np.array([[1.,  1.,  1.,  0.,  0.,  0.,  0.,  1.,  0.,  1.,  1.,  0.,  0.,\n",
    "       # 1.,  0.,  0.,  0.,  0.,  0.,  0.,  0.,  1.,  1., 77., 40., 30.]])\n",
    "    \n",
    "pred=knn.predict_proba(X_test)\n",
    "\n",
    "\n",
    "for i in pred:\n",
    "    print(\" normal\",i[0]*100,\"%\",end='')\n",
    "    print(\"|| liver cancer\",i[1]*100,\"%\",end='')\n",
    "    print(\"|| cirrohsis \",i[2]*100,\"%\")\n"
   ]
  },
  {
   "cell_type": "code",
   "execution_count": null,
   "metadata": {},
   "outputs": [],
   "source": []
  },
  {
   "cell_type": "code",
   "execution_count": null,
   "metadata": {},
   "outputs": [],
   "source": [
    "import pandas as pd\n",
    "import numpy as np\n",
    "\n",
    "datasets\n",
    "from sklearn.model_selection import train_test_split\n",
    "\n",
    "x =X\n",
    "Y=y\n",
    "x_train, x_test, Y_train, Y_test = train_test_split(x, Y, test_size=0.2, random_state=123)\n",
    "\n",
    "x_train.shape\n",
    "\n",
    "x_test.shape\n",
    "\n",
    "from sklearn.preprocessing import StandardScaler\n",
    "\n",
    "scaler = StandardScaler()\n",
    "\n",
    "train_scaled = scaler.fit_transform(x_train)\n",
    "\n",
    "test_scaled = scaler.transform(x_test)\n",
    "\n",
    "from sklearn.naive_bayes import GaussianNB\n",
    "\n",
    "model = GaussianNB()\n",
    "\n",
    "model.fit(train_scaled, Y_train)\n",
    "GaussianNB(priors=None)\n",
    "\n",
    "\n",
    "from sklearn.metrics import accuracy_score\n",
    "\n",
    "accuracy_score(Y_train, model.predict(train_scaled))\n",
    "pred = model.predict(x_test)\n",
    "l = log_loss(Y_test,pred)\n",
    "l\n",
    "t = np.array([[1.,  1.,  1.,  0.,  0.,  0.,  0.,  1.,  0.,  1.,  1.,  0.,  0.,\n",
    "        1.,  0.,  0.,  0.,  0.,  0.,  0.,  0.,  1.,  1., 77., 40., 30.]])\n",
    "pred=model.predict(t)\n",
    "pred\n"
   ]
  },
  {
   "cell_type": "code",
   "execution_count": null,
   "metadata": {},
   "outputs": [],
   "source": [
    "\n",
    "accuracy_score(Y_test, model.predict(test_scaled))"
   ]
  },
  {
   "cell_type": "code",
   "execution_count": null,
   "metadata": {},
   "outputs": [],
   "source": []
  }
 ],
 "metadata": {
  "kernelspec": {
   "display_name": "Python 3",
   "language": "python",
   "name": "python3"
  },
  "language_info": {
   "codemirror_mode": {
    "name": "ipython",
    "version": 3
   },
   "file_extension": ".py",
   "mimetype": "text/x-python",
   "name": "python",
   "nbconvert_exporter": "python",
   "pygments_lexer": "ipython3",
   "version": "3.7.4"
  }
 },
 "nbformat": 4,
 "nbformat_minor": 4
}
